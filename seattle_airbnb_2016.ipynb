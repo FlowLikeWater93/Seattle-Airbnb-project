{
 "cells": [
  {
   "cell_type": "markdown",
   "metadata": {},
   "source": [
    "## Airbnb seattle 2016 data\n",
    "\n",
    "The data we are going to explore today is provided by Airbnb. We downloaded an Zip archive that conatins three CSV files. Let us go through the data first "
   ]
  },
  {
   "cell_type": "code",
   "execution_count": 86,
   "metadata": {},
   "outputs": [],
   "source": [
    "import pandas as pd\n",
    "import numpy as np\n",
    "from scipy import stats\n",
    "import random\n",
    "import re\n",
    "from sklearn import svm\n",
    "from sklearn.model_selection import train_test_split\n",
    "from sklearn.metrics import accuracy_score\n",
    "import matplotlib.pyplot as plt\n",
    "import seaborn as sns\n",
    "%matplotlib inline\n",
    "\n",
    "df_listing = pd.read_csv('archive/listings.csv')\n",
    "df_calendar = pd.read_csv('archive/calendar.csv')\n",
    "df_reviews = pd.read_csv('archive/reviews.csv')"
   ]
  },
  {
   "cell_type": "markdown",
   "metadata": {},
   "source": [
    "Let's take a look at the three dataframes "
   ]
  },
  {
   "cell_type": "code",
   "execution_count": 87,
   "metadata": {},
   "outputs": [
    {
     "name": "stdout",
     "output_type": "stream",
     "text": [
      "<class 'pandas.core.frame.DataFrame'>\n",
      "RangeIndex: 84849 entries, 0 to 84848\n",
      "Data columns (total 6 columns):\n",
      " #   Column         Non-Null Count  Dtype \n",
      "---  ------         --------------  ----- \n",
      " 0   listing_id     84849 non-null  int64 \n",
      " 1   id             84849 non-null  int64 \n",
      " 2   date           84849 non-null  object\n",
      " 3   reviewer_id    84849 non-null  int64 \n",
      " 4   reviewer_name  84849 non-null  object\n",
      " 5   comments       84831 non-null  object\n",
      "dtypes: int64(3), object(3)\n",
      "memory usage: 3.9+ MB\n"
     ]
    }
   ],
   "source": [
    "df_reviews.info()"
   ]
  },
  {
   "cell_type": "markdown",
   "metadata": {},
   "source": [
    "This df contains written reviews (text) submitted by Airbnb users after staying at one of the listed properties in df_listing\n",
    "<br><br>"
   ]
  },
  {
   "cell_type": "code",
   "execution_count": 88,
   "metadata": {},
   "outputs": [
    {
     "name": "stdout",
     "output_type": "stream",
     "text": [
      "<class 'pandas.core.frame.DataFrame'>\n",
      "RangeIndex: 1393570 entries, 0 to 1393569\n",
      "Data columns (total 4 columns):\n",
      " #   Column      Non-Null Count    Dtype \n",
      "---  ------      --------------    ----- \n",
      " 0   listing_id  1393570 non-null  int64 \n",
      " 1   date        1393570 non-null  object\n",
      " 2   available   1393570 non-null  object\n",
      " 3   price       934542 non-null   object\n",
      "dtypes: int64(1), object(3)\n",
      "memory usage: 42.5+ MB\n"
     ]
    }
   ],
   "source": [
    "df_calendar.info()"
   ]
  },
  {
   "cell_type": "markdown",
   "metadata": {},
   "source": [
    "This df shows the days in which each listing was available and occupied through out the year (365 days)\n",
    "<br><br>"
   ]
  },
  {
   "cell_type": "code",
   "execution_count": 89,
   "metadata": {},
   "outputs": [
    {
     "name": "stdout",
     "output_type": "stream",
     "text": [
      "<class 'pandas.core.frame.DataFrame'>\n",
      "RangeIndex: 3818 entries, 0 to 3817\n",
      "Data columns (total 92 columns):\n",
      " #   Column                            Non-Null Count  Dtype  \n",
      "---  ------                            --------------  -----  \n",
      " 0   id                                3818 non-null   int64  \n",
      " 1   listing_url                       3818 non-null   object \n",
      " 2   scrape_id                         3818 non-null   int64  \n",
      " 3   last_scraped                      3818 non-null   object \n",
      " 4   name                              3818 non-null   object \n",
      " 5   summary                           3641 non-null   object \n",
      " 6   space                             3249 non-null   object \n",
      " 7   description                       3818 non-null   object \n",
      " 8   experiences_offered               3818 non-null   object \n",
      " 9   neighborhood_overview             2786 non-null   object \n",
      " 10  notes                             2212 non-null   object \n",
      " 11  transit                           2884 non-null   object \n",
      " 12  thumbnail_url                     3498 non-null   object \n",
      " 13  medium_url                        3498 non-null   object \n",
      " 14  picture_url                       3818 non-null   object \n",
      " 15  xl_picture_url                    3498 non-null   object \n",
      " 16  host_id                           3818 non-null   int64  \n",
      " 17  host_url                          3818 non-null   object \n",
      " 18  host_name                         3816 non-null   object \n",
      " 19  host_since                        3816 non-null   object \n",
      " 20  host_location                     3810 non-null   object \n",
      " 21  host_about                        2959 non-null   object \n",
      " 22  host_response_time                3295 non-null   object \n",
      " 23  host_response_rate                3295 non-null   object \n",
      " 24  host_acceptance_rate              3045 non-null   object \n",
      " 25  host_is_superhost                 3816 non-null   object \n",
      " 26  host_thumbnail_url                3816 non-null   object \n",
      " 27  host_picture_url                  3816 non-null   object \n",
      " 28  host_neighbourhood                3518 non-null   object \n",
      " 29  host_listings_count               3816 non-null   float64\n",
      " 30  host_total_listings_count         3816 non-null   float64\n",
      " 31  host_verifications                3818 non-null   object \n",
      " 32  host_has_profile_pic              3816 non-null   object \n",
      " 33  host_identity_verified            3816 non-null   object \n",
      " 34  street                            3818 non-null   object \n",
      " 35  neighbourhood                     3402 non-null   object \n",
      " 36  neighbourhood_cleansed            3818 non-null   object \n",
      " 37  neighbourhood_group_cleansed      3818 non-null   object \n",
      " 38  city                              3818 non-null   object \n",
      " 39  state                             3818 non-null   object \n",
      " 40  zipcode                           3811 non-null   object \n",
      " 41  market                            3818 non-null   object \n",
      " 42  smart_location                    3818 non-null   object \n",
      " 43  country_code                      3818 non-null   object \n",
      " 44  country                           3818 non-null   object \n",
      " 45  latitude                          3818 non-null   float64\n",
      " 46  longitude                         3818 non-null   float64\n",
      " 47  is_location_exact                 3818 non-null   object \n",
      " 48  property_type                     3817 non-null   object \n",
      " 49  room_type                         3818 non-null   object \n",
      " 50  accommodates                      3818 non-null   int64  \n",
      " 51  bathrooms                         3802 non-null   float64\n",
      " 52  bedrooms                          3812 non-null   float64\n",
      " 53  beds                              3817 non-null   float64\n",
      " 54  bed_type                          3818 non-null   object \n",
      " 55  amenities                         3818 non-null   object \n",
      " 56  square_feet                       97 non-null     float64\n",
      " 57  price                             3818 non-null   object \n",
      " 58  weekly_price                      2009 non-null   object \n",
      " 59  monthly_price                     1517 non-null   object \n",
      " 60  security_deposit                  1866 non-null   object \n",
      " 61  cleaning_fee                      2788 non-null   object \n",
      " 62  guests_included                   3818 non-null   int64  \n",
      " 63  extra_people                      3818 non-null   object \n",
      " 64  minimum_nights                    3818 non-null   int64  \n",
      " 65  maximum_nights                    3818 non-null   int64  \n",
      " 66  calendar_updated                  3818 non-null   object \n",
      " 67  has_availability                  3818 non-null   object \n",
      " 68  availability_30                   3818 non-null   int64  \n",
      " 69  availability_60                   3818 non-null   int64  \n",
      " 70  availability_90                   3818 non-null   int64  \n",
      " 71  availability_365                  3818 non-null   int64  \n",
      " 72  calendar_last_scraped             3818 non-null   object \n",
      " 73  number_of_reviews                 3818 non-null   int64  \n",
      " 74  first_review                      3191 non-null   object \n",
      " 75  last_review                       3191 non-null   object \n",
      " 76  review_scores_rating              3171 non-null   float64\n",
      " 77  review_scores_accuracy            3160 non-null   float64\n",
      " 78  review_scores_cleanliness         3165 non-null   float64\n",
      " 79  review_scores_checkin             3160 non-null   float64\n",
      " 80  review_scores_communication       3167 non-null   float64\n",
      " 81  review_scores_location            3163 non-null   float64\n",
      " 82  review_scores_value               3162 non-null   float64\n",
      " 83  requires_license                  3818 non-null   object \n",
      " 84  license                           0 non-null      float64\n",
      " 85  jurisdiction_names                3818 non-null   object \n",
      " 86  instant_bookable                  3818 non-null   object \n",
      " 87  cancellation_policy               3818 non-null   object \n",
      " 88  require_guest_profile_picture     3818 non-null   object \n",
      " 89  require_guest_phone_verification  3818 non-null   object \n",
      " 90  calculated_host_listings_count    3818 non-null   int64  \n",
      " 91  reviews_per_month                 3191 non-null   float64\n",
      "dtypes: float64(17), int64(13), object(62)\n",
      "memory usage: 2.7+ MB\n"
     ]
    }
   ],
   "source": [
    "df_listing.info()"
   ]
  },
  {
   "cell_type": "markdown",
   "metadata": {},
   "source": [
    "##### This is the main dataframe. It contains information on individual listings and hosts in the city of Seattle. We are going to work with this dataframe to answer the questions below \n",
    "<br><br>"
   ]
  },
  {
   "cell_type": "markdown",
   "metadata": {},
   "source": [
    "## Project questions\n",
    "\n",
    "Looking at the data, we can think of a couple of interesting questions that could help the stakeholders make better and more informed decisions \n",
    "<br><br>\n",
    "**Question 1)** What percentage of hosts that make 35K$+ a year from their listings on airbnb in seattle ?\n",
    "<br><br>\n",
    "**Question 2)** Do properties with a superhost have higher booking rates ?\n",
    "<br><br>\n",
    "**Question 3)** Can we predict If a new host has the potenitial to be a superhost from a list of available features ?\n",
    "<br><br>\n",
    "We will answer the aforementioned questions. But first, We will asses and clean the data\n",
    "<br><br>"
   ]
  },
  {
   "cell_type": "markdown",
   "metadata": {},
   "source": [
    "\n",
    "## Asses and clean\n",
    "\n",
    "**1- Make sure there are no duplicate rows**"
   ]
  },
  {
   "cell_type": "code",
   "execution_count": 90,
   "metadata": {},
   "outputs": [
    {
     "name": "stdout",
     "output_type": "stream",
     "text": [
      "Before dropping duplicate rows : df_listing rows =  3818\n",
      "After dropping duplicate rows : df_listing rows =  3818\n"
     ]
    }
   ],
   "source": [
    "print('Before dropping duplicate rows : df_listing rows = ', df_listing.shape[0])\n",
    "df_listing = df_listing.drop_duplicates()\n",
    "print('After dropping duplicate rows : df_listing rows = ', df_listing.shape[0])"
   ]
  },
  {
   "cell_type": "markdown",
   "metadata": {},
   "source": [
    "<br>**2- Drop columns that are** \n",
    "\n",
    "2.1) Redundant : There are other columns that serve the same purpose \n",
    "\n",
    "neighbourhood  : We will keep neighbourhood_cleansed<br>\n",
    "host_total_listings_count and calculated_host_listings_count : We will keep host_listings_count "
   ]
  },
  {
   "cell_type": "markdown",
   "metadata": {},
   "source": [
    "2.2) Irrelevant : Will not assist in our analysis or modelling\n",
    "\n",
    "latitude, longitude, listing_url, scrape_id, last_scraped<br>\n",
    "picture_url, xl_picture_url, medium_url, thumbnail_url, host_url<br>\n",
    "host_thumbnail_url, host_picture_url and calendar_last_scraped<br>"
   ]
  },
  {
   "cell_type": "markdown",
   "metadata": {},
   "source": [
    "2.3) Have all or the vast majority of their values as Null or one value across the whole df\n",
    "\n",
    "experiences_offered, city, country, country_code,smart_location<br>\n",
    "state, market, square_feet, license, has_availability<br>\n",
    "jurisdiction_names and requires_license"
   ]
  },
  {
   "cell_type": "markdown",
   "metadata": {},
   "source": [
    "Let's drop the columns mentioned above :"
   ]
  },
  {
   "cell_type": "code",
   "execution_count": 91,
   "metadata": {},
   "outputs": [
    {
     "name": "stdout",
     "output_type": "stream",
     "text": [
      "Number of columns before dropping = 92 and after = 64\n"
     ]
    }
   ],
   "source": [
    "df_listing_clean = df_listing.drop(['neighbourhood', 'smart_location', 'host_total_listings_count', 'calculated_host_listings_count', 'latitude', 'longitude', 'listing_url', 'scrape_id', 'last_scraped', 'picture_url', 'xl_picture_url', 'medium_url', 'thumbnail_url', 'host_url', 'host_thumbnail_url', 'host_picture_url', 'calendar_last_scraped',\n",
    "                 'experiences_offered', 'city', 'country', 'country_code', 'state', 'market', 'square_feet', 'square_feet', 'license', 'has_availability', 'jurisdiction_names', 'requires_license'], axis=1).copy()\n",
    "print('Number of columns before dropping = {} and after = {}'.format(df_listing.shape[1], df_listing_clean.shape[1]))"
   ]
  },
  {
   "cell_type": "markdown",
   "metadata": {},
   "source": [
    "<br>**3- Make sure All columns have appropriate data types** <br><br>\n",
    "3.1) Some columns must have a numeric data type (float or int). However, the columns are of object data type. we are going to remove $ and % signs and convert the columns into appropriate data types <br><br>\n",
    "columns : price, weekly_price, monthly_price, security_deposit, cleaning_fee, extra_people, host_acceptance_rate and host_response_rate"
   ]
  },
  {
   "cell_type": "code",
   "execution_count": 92,
   "metadata": {},
   "outputs": [
    {
     "name": "stdout",
     "output_type": "stream",
     "text": [
      "0     $85.00\n",
      "1    $150.00\n",
      "2    $975.00\n",
      "Name: price, dtype: object\n",
      "0          NaN\n",
      "1      $100.00\n",
      "2    $1,000.00\n",
      "Name: security_deposit, dtype: object\n",
      "['100%' nan '0%']\n"
     ]
    }
   ],
   "source": [
    "print(df_listing_clean.iloc[0:3,:].price)\n",
    "print(df_listing_clean.iloc[0:3,:].security_deposit)\n",
    "print(df_listing_clean.host_acceptance_rate.unique())"
   ]
  },
  {
   "cell_type": "markdown",
   "metadata": {},
   "source": [
    "We need to write a function that removes the $ and % signs and returns the clean text "
   ]
  },
  {
   "cell_type": "code",
   "execution_count": 93,
   "metadata": {},
   "outputs": [],
   "source": [
    "def clean_numeric(num_text, is_money):\n",
    "    try:\n",
    "        if is_money:\n",
    "            num = num_text\n",
    "            if ',' in num:\n",
    "                num = num.replace(',', '')\n",
    "\n",
    "            return num.replace('$', '')\n",
    "\n",
    "        else:\n",
    "            return num_text.replace('%', '')\n",
    "\n",
    "    except:\n",
    "        # some rows have nan stored as string. We write this exception block to get around it return an actual None value\n",
    "        return None"
   ]
  },
  {
   "cell_type": "code",
   "execution_count": 94,
   "metadata": {},
   "outputs": [
    {
     "name": "stdout",
     "output_type": "stream",
     "text": [
      "Check columns' data types after cleaning\n",
      "\n",
      "host_response_rate      float64\n",
      "host_acceptance_rate    float64\n",
      "price                   float64\n",
      "weekly_price            float64\n",
      "monthly_price           float64\n",
      "security_deposit        float64\n",
      "cleaning_fee            float64\n",
      "extra_people            float64\n",
      "dtype: object\n"
     ]
    }
   ],
   "source": [
    "df_listing_clean['price'] = df_listing_clean['price'].apply(lambda x: clean_numeric(x, True))\n",
    "df_listing_clean['weekly_price'] = df_listing_clean['weekly_price'].apply(lambda x: clean_numeric(x, True))\n",
    "df_listing_clean['monthly_price'] = df_listing_clean['monthly_price'].apply(lambda x: clean_numeric(x, True))\n",
    "df_listing_clean['security_deposit'] = df_listing_clean['security_deposit'].apply(lambda x: clean_numeric(x, True))\n",
    "df_listing_clean['cleaning_fee'] = df_listing_clean['cleaning_fee'].apply(lambda x: clean_numeric(x, True))\n",
    "df_listing_clean['extra_people'] = df_listing_clean['extra_people'].apply(lambda x: clean_numeric(x, True))\n",
    "df_listing_clean['host_acceptance_rate'] = df_listing_clean['host_acceptance_rate'].apply(lambda x: clean_numeric(x, False))\n",
    "df_listing_clean['host_response_rate'] = df_listing_clean['host_response_rate'].apply(lambda x: clean_numeric(x, False))\n",
    "# convert to float data type\n",
    "df_listing_clean['price'] = df_listing_clean['price'].astype(float)\n",
    "df_listing_clean['weekly_price'] = df_listing_clean['weekly_price'].astype(float)\n",
    "df_listing_clean['monthly_price'] = df_listing_clean['monthly_price'].astype(float)\n",
    "df_listing_clean['security_deposit'] = df_listing_clean['security_deposit'].astype(float)\n",
    "df_listing_clean['cleaning_fee'] = df_listing_clean['cleaning_fee'].astype(float)\n",
    "df_listing_clean['extra_people'] = df_listing_clean['extra_people'].astype(float)\n",
    "df_listing_clean['host_acceptance_rate'] = df_listing_clean['host_acceptance_rate'].astype(float)\n",
    "df_listing_clean['host_response_rate'] = df_listing_clean['host_response_rate'].astype(float)\n",
    "print('Check columns\\' data types after cleaning\\n')\n",
    "print(df_listing_clean.iloc[:, [14, 15, 35, 36, 37, 38, 39, 41]].dtypes)"
   ]
  },
  {
   "cell_type": "markdown",
   "metadata": {},
   "source": [
    "<br>\n",
    "3.2) Some columns must have a boolean or 0/1 values. However, the columns are stored as string and have only two unique values (t and f). We will turn strings into 0 and 1 integer columns \n",
    "\n",
    "columns : host_is_superhost, host_identity_verified, host_has_profile_pic, instant_bookable, require_guest_profile_picture, require_guest_phone_verification and is_location_exact<br><br>\n",
    "We need to write a function that converts these columns into 0/1 integer columns "
   ]
  },
  {
   "cell_type": "code",
   "execution_count": 95,
   "metadata": {},
   "outputs": [],
   "source": [
    "def clean_boolean(bol_text):\n",
    "    try:\n",
    "        if bol_text == 't':\n",
    "            return '1'\n",
    "        else:\n",
    "            return '0'\n",
    "\n",
    "    except:\n",
    "        # some rows have nan stored as string. We write this exception block to get around it return an actual None value\n",
    "        return None"
   ]
  },
  {
   "cell_type": "code",
   "execution_count": 96,
   "metadata": {},
   "outputs": [
    {
     "name": "stdout",
     "output_type": "stream",
     "text": [
      "Check columns' data types after cleaning\n",
      "\n",
      "host_is_superhost                   int64\n",
      "host_has_profile_pic                int64\n",
      "host_identity_verified              int64\n",
      "is_location_exact                   int64\n",
      "instant_bookable                    int64\n",
      "require_guest_profile_picture       int64\n",
      "require_guest_phone_verification    int64\n",
      "dtype: object\n"
     ]
    }
   ],
   "source": [
    "df_listing_clean['host_is_superhost'] = df_listing_clean['host_is_superhost'].apply(lambda x: clean_boolean(x))\n",
    "df_listing_clean['host_identity_verified'] = df_listing_clean['host_identity_verified'].apply(lambda x: clean_boolean(x))\n",
    "df_listing_clean['host_has_profile_pic'] = df_listing_clean['host_has_profile_pic'].apply(lambda x: clean_boolean(x))\n",
    "df_listing_clean['instant_bookable'] = df_listing_clean['instant_bookable'].apply(lambda x: clean_boolean(x))\n",
    "df_listing_clean['require_guest_profile_picture'] = df_listing_clean['require_guest_profile_picture'].apply(lambda x: clean_boolean(x))\n",
    "df_listing_clean['require_guest_phone_verification'] = df_listing_clean['require_guest_phone_verification'].apply(lambda x: clean_boolean(x))\n",
    "df_listing_clean['is_location_exact'] = df_listing_clean['is_location_exact'].apply(lambda x: clean_boolean(x))\n",
    "\n",
    "df_listing_clean['host_is_superhost'] = df_listing_clean['host_is_superhost'].astype(int)\n",
    "df_listing_clean['host_identity_verified'] = df_listing_clean['host_identity_verified'].astype(int)\n",
    "df_listing_clean['host_has_profile_pic'] = df_listing_clean['host_has_profile_pic'].astype(int)\n",
    "df_listing_clean['instant_bookable'] = df_listing_clean['instant_bookable'].astype(int)\n",
    "df_listing_clean['require_guest_profile_picture'] = df_listing_clean['require_guest_profile_picture'].astype(int)\n",
    "df_listing_clean['require_guest_phone_verification'] = df_listing_clean['require_guest_phone_verification'].astype(int)\n",
    "df_listing_clean['is_location_exact'] = df_listing_clean['is_location_exact'].astype(int)\n",
    "print('Check columns\\' data types after cleaning\\n')\n",
    "print(df_listing_clean.iloc[:, [16, 20, 21, 26, 59, 61, 62]].dtypes)"
   ]
  },
  {
   "cell_type": "markdown",
   "metadata": {},
   "source": [
    "<br>**4- Clean amenities column** <br><br>\n",
    "each listing can offer multiple amenities. Amenities are stored in a python set in string format. We will go through the each row's set of amenities and remove redundant ones, store updated amenities in a list and return as a string<br><br>Let's write a function to handle this task "
   ]
  },
  {
   "cell_type": "code",
   "execution_count": 97,
   "metadata": {},
   "outputs": [],
   "source": [
    "unique_amenities = ['']\n",
    "def clean_amenities(all_ams):\n",
    "        amns_list = ['']\n",
    "        amns = all_ams.replace('{', '').replace('}', '')\n",
    "\n",
    "        try:\n",
    "            amns = amns.replace('\"', '').split(',')\n",
    "        except:\n",
    "            amns = amns.split(',')\n",
    "\n",
    "        for item in amns:\n",
    "            if item not in unique_amenities and item not in ['Dog(s)', 'Cat(s)', 'Pets live on this property', 'Other pet(s)', 'Wireless Internet', 'Washer / Dryer', 'Carbon Monoxide Detector']:\n",
    "                unique_amenities.append(item)\n",
    "            if item in amns_list:\n",
    "                continue\n",
    "            else:\n",
    "                if item in ['Dog(s)', 'Cat(s)', 'Pets live on this property', 'Other pet(s)']:\n",
    "                    if 'Pets Allowed' not in amns_list:\n",
    "                        amns_list.append('Pets Allowed')\n",
    "                elif item == 'Wireless Internet':\n",
    "                    if 'Internet' not in amns_list:\n",
    "                        amns_list.append('Internet')\n",
    "                elif item == 'Washer / Dryer':\n",
    "                    if 'Washer' not in amns_list:\n",
    "                        amns_list.append('Washer')\n",
    "                    if 'Dryer' not in amns_list:\n",
    "                        amns_list.append('Dryer')\n",
    "                elif item == 'Carbon Monoxide Detector':\n",
    "                    if 'Smoke Detector' not in amns_list:\n",
    "                        amns_list.append('Smoke Detector')\n",
    "                elif item == 'Essentials':\n",
    "                    continue\n",
    "                else:\n",
    "                    amns_list.append(item)\n",
    "        return str(amns_list[1:])"
   ]
  },
  {
   "cell_type": "code",
   "execution_count": 98,
   "metadata": {},
   "outputs": [
    {
     "data": {
      "text/plain": [
       "['TV',\n",
       " 'Cable TV',\n",
       " 'Internet',\n",
       " 'Air Conditioning',\n",
       " 'Kitchen',\n",
       " 'Heating',\n",
       " 'Family/Kid Friendly',\n",
       " 'Washer',\n",
       " 'Dryer',\n",
       " 'Free Parking on Premises',\n",
       " 'Buzzer/Wireless Intercom',\n",
       " 'Smoke Detector',\n",
       " 'First Aid Kit',\n",
       " 'Safety Card',\n",
       " 'Fire Extinguisher',\n",
       " 'Essentials',\n",
       " 'Pets Allowed',\n",
       " 'Hot Tub',\n",
       " 'Indoor Fireplace',\n",
       " 'Shampoo',\n",
       " 'Breakfast',\n",
       " '24-Hour Check-in',\n",
       " 'Hangers',\n",
       " 'Hair Dryer',\n",
       " 'Iron',\n",
       " 'Laptop Friendly Workspace',\n",
       " 'Suitable for Events',\n",
       " 'Elevator in Building',\n",
       " 'Lock on Bedroom Door',\n",
       " 'Wheelchair Accessible',\n",
       " 'Gym',\n",
       " 'Pool',\n",
       " 'Smoking Allowed',\n",
       " 'Doorman']"
      ]
     },
     "execution_count": 98,
     "metadata": {},
     "output_type": "execute_result"
    }
   ],
   "source": [
    "df_listing_clean['amenities'] = df_listing_clean.amenities.apply(lambda x: clean_amenities(x))\n",
    "unique_amenities[1: ]"
   ]
  },
  {
   "cell_type": "markdown",
   "metadata": {},
   "source": [
    "<br>**5- Unify units in calendar_updated column** <br><br>\n",
    "We will make the values consistent across the this column. In order to do that, We will convert months and weeks to days (days = unit) "
   ]
  },
  {
   "cell_type": "code",
   "execution_count": 99,
   "metadata": {},
   "outputs": [
    {
     "data": {
      "text/plain": [
       "array(['4 weeks ago', 'today', '5 weeks ago', '6 months ago',\n",
       "       '7 weeks ago', '2 weeks ago', 'yesterday', '5 months ago',\n",
       "       'a week ago', '5 days ago', '3 days ago', '2 months ago',\n",
       "       '3 months ago', '4 days ago', '2 days ago', '3 weeks ago',\n",
       "       '1 week ago', '13 months ago', '6 weeks ago', '8 months ago',\n",
       "       '12 months ago', '4 months ago', 'never', '6 days ago',\n",
       "       '10 months ago', '14 months ago', '9 months ago', '7 months ago',\n",
       "       '30 months ago', '11 months ago', '22 months ago', '16 months ago',\n",
       "       '15 months ago', '17 months ago'], dtype=object)"
      ]
     },
     "execution_count": 99,
     "metadata": {},
     "output_type": "execute_result"
    }
   ],
   "source": [
    "df_listing_clean.calendar_updated.unique()"
   ]
  },
  {
   "cell_type": "code",
   "execution_count": 100,
   "metadata": {},
   "outputs": [],
   "source": [
    "def clean_calendar_updated(updated_at):\n",
    "    time = 0\n",
    "    if updated_at == 'a week ago':\n",
    "        time = 7\n",
    "    elif updated_at == 'today':\n",
    "        time = 1\n",
    "    elif updated_at == 'yesterday':\n",
    "        time = 2\n",
    "    elif updated_at == 'never':\n",
    "        time = 0\n",
    "    elif 'week' in updated_at:\n",
    "        time = int(re.search(r'\\d+', updated_at).group()) * 7\n",
    "    elif 'month' in updated_at:\n",
    "        time = int(re.search(r'\\d+', updated_at).group()) * 30\n",
    "    else:\n",
    "        time = int(re.search(r'\\d+', updated_at).group())\n",
    "\n",
    "    return time"
   ]
  },
  {
   "cell_type": "code",
   "execution_count": 101,
   "metadata": {},
   "outputs": [],
   "source": [
    "df_listing_clean['calendar_updated_numeric'] = df_listing_clean['calendar_updated'].apply(lambda x: clean_calendar_updated(x))\n",
    "df_listing_clean['calendar_updated_numeric'] = df_listing_clean['calendar_updated_numeric'].astype(int)"
   ]
  },
  {
   "cell_type": "markdown",
   "metadata": {},
   "source": [
    "<br>**6- Handle null values and categorical columns (will perform this step later before modelling)** <br><br>\n"
   ]
  },
  {
   "cell_type": "markdown",
   "metadata": {},
   "source": [
    "### Let\\'s briefly look at descriptive statistics and plot numeric data : "
   ]
  },
  {
   "cell_type": "code",
   "execution_count": 102,
   "metadata": {},
   "outputs": [
    {
     "data": {
      "text/html": [
       "<div>\n",
       "<style scoped>\n",
       "    .dataframe tbody tr th:only-of-type {\n",
       "        vertical-align: middle;\n",
       "    }\n",
       "\n",
       "    .dataframe tbody tr th {\n",
       "        vertical-align: top;\n",
       "    }\n",
       "\n",
       "    .dataframe thead th {\n",
       "        text-align: right;\n",
       "    }\n",
       "</style>\n",
       "<table border=\"1\" class=\"dataframe\">\n",
       "  <thead>\n",
       "    <tr style=\"text-align: right;\">\n",
       "      <th></th>\n",
       "      <th>host_response_rate</th>\n",
       "      <th>host_acceptance_rate</th>\n",
       "      <th>host_listings_count</th>\n",
       "      <th>accommodates</th>\n",
       "      <th>bathrooms</th>\n",
       "      <th>bedrooms</th>\n",
       "      <th>beds</th>\n",
       "      <th>price</th>\n",
       "      <th>security_deposit</th>\n",
       "      <th>cleaning_fee</th>\n",
       "      <th>...</th>\n",
       "      <th>availability_365</th>\n",
       "      <th>number_of_reviews</th>\n",
       "      <th>review_scores_rating</th>\n",
       "      <th>review_scores_accuracy</th>\n",
       "      <th>review_scores_cleanliness</th>\n",
       "      <th>review_scores_checkin</th>\n",
       "      <th>review_scores_communication</th>\n",
       "      <th>review_scores_location</th>\n",
       "      <th>review_scores_value</th>\n",
       "      <th>reviews_per_month</th>\n",
       "    </tr>\n",
       "  </thead>\n",
       "  <tbody>\n",
       "    <tr>\n",
       "      <th>count</th>\n",
       "      <td>3295.000000</td>\n",
       "      <td>3045.000000</td>\n",
       "      <td>3816.000000</td>\n",
       "      <td>3818.000000</td>\n",
       "      <td>3802.000000</td>\n",
       "      <td>3812.000000</td>\n",
       "      <td>3817.000000</td>\n",
       "      <td>3818.000000</td>\n",
       "      <td>1866.000000</td>\n",
       "      <td>2788.000000</td>\n",
       "      <td>...</td>\n",
       "      <td>3818.000000</td>\n",
       "      <td>3818.000000</td>\n",
       "      <td>3171.000000</td>\n",
       "      <td>3160.000000</td>\n",
       "      <td>3165.000000</td>\n",
       "      <td>3160.000000</td>\n",
       "      <td>3167.000000</td>\n",
       "      <td>3163.000000</td>\n",
       "      <td>3162.000000</td>\n",
       "      <td>3191.000000</td>\n",
       "    </tr>\n",
       "    <tr>\n",
       "      <th>mean</th>\n",
       "      <td>94.886798</td>\n",
       "      <td>99.967159</td>\n",
       "      <td>7.157757</td>\n",
       "      <td>3.349398</td>\n",
       "      <td>1.259469</td>\n",
       "      <td>1.307712</td>\n",
       "      <td>1.735394</td>\n",
       "      <td>127.976166</td>\n",
       "      <td>287.610397</td>\n",
       "      <td>61.710904</td>\n",
       "      <td>...</td>\n",
       "      <td>244.772656</td>\n",
       "      <td>22.223415</td>\n",
       "      <td>94.539262</td>\n",
       "      <td>9.636392</td>\n",
       "      <td>9.556398</td>\n",
       "      <td>9.786709</td>\n",
       "      <td>9.809599</td>\n",
       "      <td>9.608916</td>\n",
       "      <td>9.452245</td>\n",
       "      <td>2.078919</td>\n",
       "    </tr>\n",
       "    <tr>\n",
       "      <th>std</th>\n",
       "      <td>11.866705</td>\n",
       "      <td>1.812201</td>\n",
       "      <td>28.628149</td>\n",
       "      <td>1.977599</td>\n",
       "      <td>0.590369</td>\n",
       "      <td>0.883395</td>\n",
       "      <td>1.139480</td>\n",
       "      <td>90.250022</td>\n",
       "      <td>270.222690</td>\n",
       "      <td>48.830341</td>\n",
       "      <td>...</td>\n",
       "      <td>126.772526</td>\n",
       "      <td>37.730892</td>\n",
       "      <td>6.606083</td>\n",
       "      <td>0.698031</td>\n",
       "      <td>0.797274</td>\n",
       "      <td>0.595499</td>\n",
       "      <td>0.568211</td>\n",
       "      <td>0.629053</td>\n",
       "      <td>0.750259</td>\n",
       "      <td>1.822348</td>\n",
       "    </tr>\n",
       "    <tr>\n",
       "      <th>min</th>\n",
       "      <td>17.000000</td>\n",
       "      <td>0.000000</td>\n",
       "      <td>1.000000</td>\n",
       "      <td>1.000000</td>\n",
       "      <td>0.000000</td>\n",
       "      <td>0.000000</td>\n",
       "      <td>1.000000</td>\n",
       "      <td>20.000000</td>\n",
       "      <td>95.000000</td>\n",
       "      <td>5.000000</td>\n",
       "      <td>...</td>\n",
       "      <td>0.000000</td>\n",
       "      <td>0.000000</td>\n",
       "      <td>20.000000</td>\n",
       "      <td>2.000000</td>\n",
       "      <td>3.000000</td>\n",
       "      <td>2.000000</td>\n",
       "      <td>2.000000</td>\n",
       "      <td>4.000000</td>\n",
       "      <td>2.000000</td>\n",
       "      <td>0.020000</td>\n",
       "    </tr>\n",
       "    <tr>\n",
       "      <th>25%</th>\n",
       "      <td>98.000000</td>\n",
       "      <td>100.000000</td>\n",
       "      <td>1.000000</td>\n",
       "      <td>2.000000</td>\n",
       "      <td>1.000000</td>\n",
       "      <td>1.000000</td>\n",
       "      <td>1.000000</td>\n",
       "      <td>75.000000</td>\n",
       "      <td>150.000000</td>\n",
       "      <td>25.000000</td>\n",
       "      <td>...</td>\n",
       "      <td>124.000000</td>\n",
       "      <td>2.000000</td>\n",
       "      <td>93.000000</td>\n",
       "      <td>9.000000</td>\n",
       "      <td>9.000000</td>\n",
       "      <td>10.000000</td>\n",
       "      <td>10.000000</td>\n",
       "      <td>9.000000</td>\n",
       "      <td>9.000000</td>\n",
       "      <td>0.695000</td>\n",
       "    </tr>\n",
       "    <tr>\n",
       "      <th>50%</th>\n",
       "      <td>100.000000</td>\n",
       "      <td>100.000000</td>\n",
       "      <td>1.000000</td>\n",
       "      <td>3.000000</td>\n",
       "      <td>1.000000</td>\n",
       "      <td>1.000000</td>\n",
       "      <td>1.000000</td>\n",
       "      <td>100.000000</td>\n",
       "      <td>250.000000</td>\n",
       "      <td>50.000000</td>\n",
       "      <td>...</td>\n",
       "      <td>308.000000</td>\n",
       "      <td>9.000000</td>\n",
       "      <td>96.000000</td>\n",
       "      <td>10.000000</td>\n",
       "      <td>10.000000</td>\n",
       "      <td>10.000000</td>\n",
       "      <td>10.000000</td>\n",
       "      <td>10.000000</td>\n",
       "      <td>10.000000</td>\n",
       "      <td>1.540000</td>\n",
       "    </tr>\n",
       "    <tr>\n",
       "      <th>75%</th>\n",
       "      <td>100.000000</td>\n",
       "      <td>100.000000</td>\n",
       "      <td>3.000000</td>\n",
       "      <td>4.000000</td>\n",
       "      <td>1.000000</td>\n",
       "      <td>2.000000</td>\n",
       "      <td>2.000000</td>\n",
       "      <td>150.000000</td>\n",
       "      <td>300.000000</td>\n",
       "      <td>83.000000</td>\n",
       "      <td>...</td>\n",
       "      <td>360.000000</td>\n",
       "      <td>26.000000</td>\n",
       "      <td>99.000000</td>\n",
       "      <td>10.000000</td>\n",
       "      <td>10.000000</td>\n",
       "      <td>10.000000</td>\n",
       "      <td>10.000000</td>\n",
       "      <td>10.000000</td>\n",
       "      <td>10.000000</td>\n",
       "      <td>3.000000</td>\n",
       "    </tr>\n",
       "    <tr>\n",
       "      <th>max</th>\n",
       "      <td>100.000000</td>\n",
       "      <td>100.000000</td>\n",
       "      <td>502.000000</td>\n",
       "      <td>16.000000</td>\n",
       "      <td>8.000000</td>\n",
       "      <td>7.000000</td>\n",
       "      <td>15.000000</td>\n",
       "      <td>1000.000000</td>\n",
       "      <td>5000.000000</td>\n",
       "      <td>300.000000</td>\n",
       "      <td>...</td>\n",
       "      <td>365.000000</td>\n",
       "      <td>474.000000</td>\n",
       "      <td>100.000000</td>\n",
       "      <td>10.000000</td>\n",
       "      <td>10.000000</td>\n",
       "      <td>10.000000</td>\n",
       "      <td>10.000000</td>\n",
       "      <td>10.000000</td>\n",
       "      <td>10.000000</td>\n",
       "      <td>12.150000</td>\n",
       "    </tr>\n",
       "  </tbody>\n",
       "</table>\n",
       "<p>8 rows × 27 columns</p>\n",
       "</div>"
      ],
      "text/plain": [
       "       host_response_rate  host_acceptance_rate  host_listings_count  \\\n",
       "count         3295.000000           3045.000000          3816.000000   \n",
       "mean            94.886798             99.967159             7.157757   \n",
       "std             11.866705              1.812201            28.628149   \n",
       "min             17.000000              0.000000             1.000000   \n",
       "25%             98.000000            100.000000             1.000000   \n",
       "50%            100.000000            100.000000             1.000000   \n",
       "75%            100.000000            100.000000             3.000000   \n",
       "max            100.000000            100.000000           502.000000   \n",
       "\n",
       "       accommodates    bathrooms     bedrooms         beds        price  \\\n",
       "count   3818.000000  3802.000000  3812.000000  3817.000000  3818.000000   \n",
       "mean       3.349398     1.259469     1.307712     1.735394   127.976166   \n",
       "std        1.977599     0.590369     0.883395     1.139480    90.250022   \n",
       "min        1.000000     0.000000     0.000000     1.000000    20.000000   \n",
       "25%        2.000000     1.000000     1.000000     1.000000    75.000000   \n",
       "50%        3.000000     1.000000     1.000000     1.000000   100.000000   \n",
       "75%        4.000000     1.000000     2.000000     2.000000   150.000000   \n",
       "max       16.000000     8.000000     7.000000    15.000000  1000.000000   \n",
       "\n",
       "       security_deposit  cleaning_fee  ...  availability_365  \\\n",
       "count       1866.000000   2788.000000  ...       3818.000000   \n",
       "mean         287.610397     61.710904  ...        244.772656   \n",
       "std          270.222690     48.830341  ...        126.772526   \n",
       "min           95.000000      5.000000  ...          0.000000   \n",
       "25%          150.000000     25.000000  ...        124.000000   \n",
       "50%          250.000000     50.000000  ...        308.000000   \n",
       "75%          300.000000     83.000000  ...        360.000000   \n",
       "max         5000.000000    300.000000  ...        365.000000   \n",
       "\n",
       "       number_of_reviews  review_scores_rating  review_scores_accuracy  \\\n",
       "count        3818.000000           3171.000000             3160.000000   \n",
       "mean           22.223415             94.539262                9.636392   \n",
       "std            37.730892              6.606083                0.698031   \n",
       "min             0.000000             20.000000                2.000000   \n",
       "25%             2.000000             93.000000                9.000000   \n",
       "50%             9.000000             96.000000               10.000000   \n",
       "75%            26.000000             99.000000               10.000000   \n",
       "max           474.000000            100.000000               10.000000   \n",
       "\n",
       "       review_scores_cleanliness  review_scores_checkin  \\\n",
       "count                3165.000000            3160.000000   \n",
       "mean                    9.556398               9.786709   \n",
       "std                     0.797274               0.595499   \n",
       "min                     3.000000               2.000000   \n",
       "25%                     9.000000              10.000000   \n",
       "50%                    10.000000              10.000000   \n",
       "75%                    10.000000              10.000000   \n",
       "max                    10.000000              10.000000   \n",
       "\n",
       "       review_scores_communication  review_scores_location  \\\n",
       "count                  3167.000000             3163.000000   \n",
       "mean                      9.809599                9.608916   \n",
       "std                       0.568211                0.629053   \n",
       "min                       2.000000                4.000000   \n",
       "25%                      10.000000                9.000000   \n",
       "50%                      10.000000               10.000000   \n",
       "75%                      10.000000               10.000000   \n",
       "max                      10.000000               10.000000   \n",
       "\n",
       "       review_scores_value  reviews_per_month  \n",
       "count          3162.000000        3191.000000  \n",
       "mean              9.452245           2.078919  \n",
       "std               0.750259           1.822348  \n",
       "min               2.000000           0.020000  \n",
       "25%               9.000000           0.695000  \n",
       "50%              10.000000           1.540000  \n",
       "75%              10.000000           3.000000  \n",
       "max              10.000000          12.150000  \n",
       "\n",
       "[8 rows x 27 columns]"
      ]
     },
     "execution_count": 102,
     "metadata": {},
     "output_type": "execute_result"
    }
   ],
   "source": [
    "numeric_df = df_listing_clean.iloc[:, [14, 15, 18, 29, 30, 31, 32, 35, 38, 39, 40, 41, 42, 43, 45, 46, 47, 48, 49, 52, 53, 54, 55, 56, 57, 58, 63]].copy()\n",
    "numeric_df.describe()"
   ]
  },
  {
   "cell_type": "code",
   "execution_count": 103,
   "metadata": {},
   "outputs": [
    {
     "name": "stdout",
     "output_type": "stream",
     "text": [
      "\n",
      " Percentage of listings that require a secuirity deposit = 49%\n",
      "\n",
      " Percentage of listings that require a cleaning fee = 73% and 75% ask for less than 83$\n",
      "\n",
      " Percentage of listings that allow one guest only = 60%\n",
      "\n",
      " Percentage of listings that are booked more than 50% of the year = 35%\n"
     ]
    }
   ],
   "source": [
    "print('\\n Percentage of listings that require a secuirity deposit = {}%'.format(round(numeric_df[numeric_df.security_deposit.isnull()==False].shape[0]/numeric_df.shape[0]*100)))\n",
    "print('\\n Percentage of listings that require a cleaning fee = {}% and 75% ask for less than 83$'.format(round(numeric_df[numeric_df.cleaning_fee.isnull()==False].shape[0]/numeric_df.shape[0]*100)))\n",
    "print('\\n Percentage of listings that allow one guest only = {}%'.format(round(numeric_df.query('guests_included == 1.0').shape[0]/numeric_df.shape[0]*100)))\n",
    "print('\\n Percentage of listings that are booked more than 50% of the year = {}%'.format(round(numeric_df.query('availability_365 <= 182').shape[0]/numeric_df.shape[0]*100)))"
   ]
  },
  {
   "cell_type": "markdown",
   "metadata": {},
   "source": [
    "1) 75% of hosts have a response rate greater than or equal to 98% and an acceptance rate of 100%<br>\n",
    "2) 50% of hosts have 1 property on airbnb and 75% have 2 or less <br>\n",
    "3) the majority of listings have 1 bathroom, 1 bedroom and 1 bed <br>\n",
    "4) 75% of listings are priced below 150 USD <br>\n",
    "5) The most expensive listing is priced at 1000 USD <br> \n",
    "6) half of the listing allow bookings with more than one night <br>\n",
    "7) 75% of listing get less than 3 reviews per month <br>"
   ]
  },
  {
   "cell_type": "code",
   "execution_count": 104,
   "metadata": {},
   "outputs": [
    {
     "data": {
      "image/png": "[encoded data removed]",
      "text/plain": [
       "<Figure size 640x480 with 4 Axes>"
      ]
     },
     "metadata": {},
     "output_type": "display_data"
    }
   ],
   "source": [
    "numeric_df.loc[:, ['availability_365', 'number_of_reviews', 'review_scores_rating', 'reviews_per_month']].hist();"
   ]
  },
  {
   "cell_type": "markdown",
   "metadata": {},
   "source": [
    "1) Approximately half of listings are almost available the whole year  \n",
    "2) Tha vast majority of listings get less than 4 reviews a month \n",
    "3) Tha vast majority of listings have a review score rating of 90-100%. There a a few exceptions on the other end of the spectrum "
   ]
  },
  {
   "cell_type": "markdown",
   "metadata": {},
   "source": [
    "## We move on to the next step,  answering our questions\n",
    "\n",
    "**Question 1)** What percentage of hosts that make 35K$+ a year from their listings on airbnb in seattle ?\n",
    "<br><br>\n",
    "To answer this question, we first have to calculate the gross revenue of each listing by multiplying the value in the **price** column by (1-availability_365) and store result in a new column called year_revenue"
   ]
  },
  {
   "cell_type": "code",
   "execution_count": 105,
   "metadata": {},
   "outputs": [
    {
     "name": "stdout",
     "output_type": "stream",
     "text": [
      " 18.28% of hosts make 35K$+ from their listings in seattle\n",
      " 45.8% of hosts make 7500$ or less from their listings in seattle\n",
      " 14.94% of hosts make nothing from their listings in seattle\n"
     ]
    }
   ],
   "source": [
    "df_listing_clean['year_revenue'] = (365-df_listing_clean['availability_365'])*df_listing_clean['price']\n",
    "print(' {}% of hosts make 35K$+ from their listings in seattle'.format(round(df_listing_clean.groupby('host_id').year_revenue.sum().reset_index(name='rev').query('rev >= 35000.0').shape[0]/df_listing_clean.host_id.nunique()*100, 2)))\n",
    "print(' {}% of hosts make 7500$ or less from their listings in seattle'.format(round(df_listing_clean.groupby('host_id').year_revenue.sum().reset_index(name='rev').query('rev <= 7500.0').shape[0]/df_listing_clean.host_id.nunique()*100, 2)))\n",
    "print(' {}% of hosts make nothing from their listings in seattle'.format(round(df_listing_clean.groupby('host_id').year_revenue.sum().reset_index(name='rev').query('rev == 0.0').shape[0]/df_listing_clean.host_id.nunique()*100, 2)))"
   ]
  },
  {
   "cell_type": "markdown",
   "metadata": {},
   "source": [
    "<br>\n",
    "\n",
    "**Question 2)** Do properties with a superhost have higher booking rates ?\n",
    "<br><br>\n",
    "We must test our hypothesis to find out If superhosts have higher booking rates. <br>\n",
    "H0: superhosts have the same or worse booking rates <br>\n",
    "H1: superhosts have higher booking rates than regular hosts<br>\n",
    "<br><br>\n",
    "First of all, we normalize availability_365 by taking (N) random values and finding their means and repeating this process many times then plotting the means"
   ]
  },
  {
   "cell_type": "code",
   "execution_count": 106,
   "metadata": {},
   "outputs": [
    {
     "data": {
      "image/png": "[encoded data removed]",
      "text/plain": [
       "<Figure size 640x480 with 1 Axes>"
      ]
     },
     "metadata": {},
     "output_type": "display_data"
    }
   ],
   "source": [
    "def hyp_test(df):\n",
    "    normalized = [0]\n",
    "    for index in range(0, 600):\n",
    "        iteration = np.array([])\n",
    "        for j in range(0, 300):\n",
    "            pos = random.randint(0, df.shape[0]-1)\n",
    "            iteration = np.insert(iteration, j, df.iloc[pos, 48])\n",
    "        normalized.append(iteration.mean())\n",
    "\n",
    "    return pd.DataFrame(data={'normalized_': normalized[1: ]})\n",
    "\n",
    "\n",
    "normalized_365 = hyp_test(df_listing_clean)\n",
    "normalized_365.hist();"
   ]
  },
  {
   "cell_type": "code",
   "execution_count": 107,
   "metadata": {},
   "outputs": [
    {
     "name": "stdout",
     "output_type": "stream",
     "text": [
      " Mean availability_365 : superhosts = 241.14910025706942 and hosts = 245.7 days a year\n",
      " Variance of availability_365 : superhosts = 14724.353544877933 and hosts = 16416.71549851934 and ratio = 0.8969122688521924\n"
     ]
    }
   ],
   "source": [
    "superhost_mean, host_mean = df_listing_clean.query('host_is_superhost == 1').availability_365.mean(), df_listing_clean.query('host_is_superhost == 0').availability_365.mean()\n",
    "superhost_var, host_var = df_listing_clean.query('host_is_superhost == 1').availability_365.var(), df_listing_clean.query('host_is_superhost == 0').availability_365.var()\n",
    "print(' Mean availability_365 : superhosts = {} and hosts = {} days a year'.format(superhost_mean, host_mean))\n",
    "print(' Variance of availability_365 : superhosts = {} and hosts = {} and ratio = {}'.format(superhost_var, host_var, superhost_var/host_var))"
   ]
  },
  {
   "cell_type": "markdown",
   "metadata": {},
   "source": [
    "<br>We run a two sample T-test to find out if our theory holds up"
   ]
  },
  {
   "cell_type": "code",
   "execution_count": 108,
   "metadata": {},
   "outputs": [
    {
     "name": "stdout",
     "output_type": "stream",
     "text": [
      " Is the p_value 0.18583682847838917 less than alpha = 0.05 ? False\n",
      "\n",
      " Conclusion : We reject the alternative hypothesis\n",
      "\n",
      " Superhosts don't have higher booking rates than regular hosts\n"
     ]
    }
   ],
   "source": [
    "_, p_value = stats.ttest_ind(a=df_listing_clean.query('host_is_superhost == 1').availability_365, b=df_listing_clean.query('host_is_superhost == 0').availability_365, equal_var=True)\n",
    "if superhost_mean < host_mean:\n",
    "    p = p_value/2\n",
    "else:\n",
    "    p = 1.0 - p_value/2\n",
    "\n",
    "print(' Is the p_value {} less than alpha = 0.05 ? {}'.format(p, p < 0.05))\n",
    "print('\\n Conclusion : We reject the alternative hypothesis')\n",
    "print('\\n Superhosts don\\'t have higher booking rates than regular hosts')"
   ]
  },
  {
   "cell_type": "markdown",
   "metadata": {},
   "source": [
    "<br>\n",
    "\n",
    "**Question 3)** Can we predict If a new host has the potenitial to be a superhost from a list of available features ?\n",
    "<br><br>\n",
    "We will build a model that classifies hosts (superhost/regular host) based on a number of features\n",
    "<br>\n",
    "This model can help us predict wether from a host has the potential to be superhost based on data that's available when the hosts newly list their properties\n",
    "<br><br>\n",
    "**What features/columns can we feed this model ?** \n",
    "<br>\n",
    "price - neighborhood - amenities - cleaning fee<br>\n",
    "secuirity deposit - guests_included - calendar_updated_numeric<br>\n",
    "extra_people - bed_type - room_type - property_type<br>\n",
    "cancellation_policy - require_guest_phone_verification<br>\n",
    "require_guest_profile_picture - instant_bookable\n",
    "<br><br>\n",
    "**our target/response = variable host_is_superhost** "
   ]
  },
  {
   "cell_type": "code",
   "execution_count": 109,
   "metadata": {},
   "outputs": [],
   "source": [
    "model_df = df_listing_clean.loc[:, ['host_id', 'id', 'host_is_superhost', 'price', 'neighbourhood_cleansed', 'cleaning_fee', 'security_deposit', 'guests_included', 'extra_people', 'calendar_updated_numeric', 'bed_type', 'room_type', 'property_type', 'instant_bookable', 'cancellation_policy', 'require_guest_profile_picture', 'require_guest_phone_verification']].copy()"
   ]
  },
  {
   "cell_type": "markdown",
   "metadata": {},
   "source": [
    "**First, We need to handle null values**\n",
    "<br><br>\n",
    "1- our target/response variable host_is_superhost doesn't have any null values<br>\n",
    "2- price also doesn't have any null values<br>\n",
    "3- bed_type, room_type, neighbourhood_cleansed, instant_bookable, cancellation_policy, require_guest_profile_picture, calendar_updated_numeric and require_guest_phone_verification all don't have any null values<br>\n",
    "4- cleaning_fee, security_deposit have null values. We are going to assume that a null value in both of these columns means a fee is not required => fill null with 0"
   ]
  },
  {
   "cell_type": "code",
   "execution_count": 110,
   "metadata": {},
   "outputs": [
    {
     "name": "stdout",
     "output_type": "stream",
     "text": [
      "<class 'pandas.core.frame.DataFrame'>\n",
      "Int64Index: 3817 entries, 0 to 3817\n",
      "Data columns (total 17 columns):\n",
      " #   Column                            Non-Null Count  Dtype  \n",
      "---  ------                            --------------  -----  \n",
      " 0   host_id                           3817 non-null   int64  \n",
      " 1   id                                3817 non-null   int64  \n",
      " 2   host_is_superhost                 3817 non-null   int64  \n",
      " 3   price                             3817 non-null   float64\n",
      " 4   neighbourhood_cleansed            3817 non-null   object \n",
      " 5   cleaning_fee                      3817 non-null   float64\n",
      " 6   security_deposit                  3817 non-null   float64\n",
      " 7   guests_included                   3817 non-null   int64  \n",
      " 8   extra_people                      3817 non-null   float64\n",
      " 9   calendar_updated_numeric          3817 non-null   int64  \n",
      " 10  bed_type                          3817 non-null   object \n",
      " 11  room_type                         3817 non-null   object \n",
      " 12  property_type                     3817 non-null   object \n",
      " 13  instant_bookable                  3817 non-null   int64  \n",
      " 14  cancellation_policy               3817 non-null   object \n",
      " 15  require_guest_profile_picture     3817 non-null   int64  \n",
      " 16  require_guest_phone_verification  3817 non-null   int64  \n",
      "dtypes: float64(4), int64(8), object(5)\n",
      "memory usage: 536.8+ KB\n",
      "None\n"
     ]
    }
   ],
   "source": [
    "model_df['cleaning_fee'] = model_df['cleaning_fee'].fillna(0)\n",
    "model_df['security_deposit'] = model_df['security_deposit'].fillna(0)\n",
    "# property_type has one null value, drop the row\n",
    "model_df.dropna(subset=['property_type'], inplace=True)\n",
    "print(model_df.info())"
   ]
  },
  {
   "cell_type": "markdown",
   "metadata": {},
   "source": [
    "**Finally, let's handle categorical variables**\n",
    "<br><br>\n",
    "We will use the get_dummies function to create dummy columns for each unique value in the following columns <br>\n",
    "neighbourhood_cleansed, bed_type, room_type, property_type and cancellation_policy"
   ]
  },
  {
   "cell_type": "code",
   "execution_count": 111,
   "metadata": {},
   "outputs": [
    {
     "data": {
      "text/plain": [
       "Index(['host_id', 'id', 'host_is_superhost', 'price', 'cleaning_fee',\n",
       "       'security_deposit', 'guests_included', 'extra_people',\n",
       "       'calendar_updated_numeric', 'instant_bookable',\n",
       "       ...\n",
       "       'property_House', 'property_Loft', 'property_Other', 'property_Tent',\n",
       "       'property_Townhouse', 'property_Treehouse', 'property_Yurt',\n",
       "       'cancel_flexible', 'cancel_moderate', 'cancel_strict'],\n",
       "      dtype='object', length=126)"
      ]
     },
     "execution_count": 111,
     "metadata": {},
     "output_type": "execute_result"
    }
   ],
   "source": [
    "model_df = pd.get_dummies(model_df, columns=['neighbourhood_cleansed', 'bed_type', 'room_type', 'property_type', 'cancellation_policy'], dtype=int, prefix=['neighbourhood', 'bed', 'room', 'property', 'cancel'])\n",
    "model_df.columns"
   ]
  },
  {
   "cell_type": "markdown",
   "metadata": {},
   "source": [
    "Also, We need to create dummy columns for each unique amenity. However, it is a bit tricky as one listing can have multiple values<br><br>\n",
    "1- We will create numpy zeros matrix of size 3818 X number_unique_amenities + 1 <br>\n",
    "2- go through the dataframe row by row (for loop) and check the amenities column <br>\n",
    "3- create a nested loop for each item in the unique_amenities list <br>\n",
    "4- if item is in row's amenities, then set matrix[current_index_first_loop][current_index_nested_loop] = 1 <br>\n",
    "5- At the end of each iteration of the first loop, set matrix[current_index_first_loop][-1] = listing_id <br>"
   ]
  },
  {
   "cell_type": "code",
   "execution_count": 112,
   "metadata": {},
   "outputs": [],
   "source": [
    "def dummies_amenities(df):\n",
    "    matrix = []\n",
    "    for i in range(0, 3818):\n",
    "        matrix.append(np.zeros(len(unique_amenities) + 1).tolist())\n",
    "\n",
    "    for index_x, row in df.iterrows():\n",
    "        for index_j in range(0, len(unique_amenities)):\n",
    "            if unique_amenities[index_j] in row['amenities']:\n",
    "                matrix[index_x][index_j] = 1\n",
    "        matrix[index_x][-1] = row['id']\n",
    "\n",
    "    unique_amenities.append('id')\n",
    "    return pd.DataFrame(data=matrix, columns=unique_amenities).astype(int).copy()"
   ]
  },
  {
   "cell_type": "code",
   "execution_count": 113,
   "metadata": {},
   "outputs": [
    {
     "data": {
      "text/plain": [
       "host_id                    int64\n",
       "id                         int64\n",
       "host_is_superhost          int64\n",
       "price                    float64\n",
       "cleaning_fee             float64\n",
       "                          ...   \n",
       "Wheelchair Accessible      int64\n",
       "Gym                        int64\n",
       "Pool                       int64\n",
       "Smoking Allowed            int64\n",
       "Doorman                    int64\n",
       "Length: 160, dtype: object"
      ]
     },
     "execution_count": 113,
     "metadata": {},
     "output_type": "execute_result"
    }
   ],
   "source": [
    "unique_amenities = unique_amenities[1:]\n",
    "model_df = model_df.merge(dummies_amenities(df_listing_clean), on='id', how='inner')\n",
    "model_df.dtypes"
   ]
  },
  {
   "cell_type": "markdown",
   "metadata": {},
   "source": [
    "<br><br>\n",
    "our target/response variable host_is_superhost is a binary variable<br>\n",
    "which means where are going to select a classification algorithm for our model<br>\n",
    "**SVM** (support vector machine) is one of the most popular and widely used algorithms for classifications<br><br>\n",
    "Let's split our data into trainging and testing groups "
   ]
  },
  {
   "cell_type": "code",
   "execution_count": 116,
   "metadata": {},
   "outputs": [],
   "source": [
    "X_train, X_test, y_train, y_test = train_test_split(model_df.iloc[:, 3:], model_df.iloc[:, 2], test_size=0.33, random_state=42)"
   ]
  },
  {
   "cell_type": "markdown",
   "metadata": {},
   "source": [
    "<br>\n",
    "Then, create the model and fit the model to the training data "
   ]
  },
  {
   "cell_type": "code",
   "execution_count": 117,
   "metadata": {},
   "outputs": [
    {
     "data": {
      "text/html": [
       "<style>#sk-container-id-1 {color: black;background-color: white;}#sk-container-id-1 pre{padding: 0;}#sk-container-id-1 div.sk-toggleable {background-color: white;}#sk-container-id-1 label.sk-toggleable__label {cursor: pointer;display: block;width: 100%;margin-bottom: 0;padding: 0.3em;box-sizing: border-box;text-align: center;}#sk-container-id-1 label.sk-toggleable__label-arrow:before {content: \"▸\";float: left;margin-right: 0.25em;color: #696969;}#sk-container-id-1 label.sk-toggleable__label-arrow:hover:before {color: black;}#sk-container-id-1 div.sk-estimator:hover label.sk-toggleable__label-arrow:before {color: black;}#sk-container-id-1 div.sk-toggleable__content {max-height: 0;max-width: 0;overflow: hidden;text-align: left;background-color: #f0f8ff;}#sk-container-id-1 div.sk-toggleable__content pre {margin: 0.2em;color: black;border-radius: 0.25em;background-color: #f0f8ff;}#sk-container-id-1 input.sk-toggleable__control:checked~div.sk-toggleable__content {max-height: 200px;max-width: 100%;overflow: auto;}#sk-container-id-1 input.sk-toggleable__control:checked~label.sk-toggleable__label-arrow:before {content: \"▾\";}#sk-container-id-1 div.sk-estimator input.sk-toggleable__control:checked~label.sk-toggleable__label {background-color: #d4ebff;}#sk-container-id-1 div.sk-label input.sk-toggleable__control:checked~label.sk-toggleable__label {background-color: #d4ebff;}#sk-container-id-1 input.sk-hidden--visually {border: 0;clip: rect(1px 1px 1px 1px);clip: rect(1px, 1px, 1px, 1px);height: 1px;margin: -1px;overflow: hidden;padding: 0;position: absolute;width: 1px;}#sk-container-id-1 div.sk-estimator {font-family: monospace;background-color: #f0f8ff;border: 1px dotted black;border-radius: 0.25em;box-sizing: border-box;margin-bottom: 0.5em;}#sk-container-id-1 div.sk-estimator:hover {background-color: #d4ebff;}#sk-container-id-1 div.sk-parallel-item::after {content: \"\";width: 100%;border-bottom: 1px solid gray;flex-grow: 1;}#sk-container-id-1 div.sk-label:hover label.sk-toggleable__label {background-color: #d4ebff;}#sk-container-id-1 div.sk-serial::before {content: \"\";position: absolute;border-left: 1px solid gray;box-sizing: border-box;top: 0;bottom: 0;left: 50%;z-index: 0;}#sk-container-id-1 div.sk-serial {display: flex;flex-direction: column;align-items: center;background-color: white;padding-right: 0.2em;padding-left: 0.2em;position: relative;}#sk-container-id-1 div.sk-item {position: relative;z-index: 1;}#sk-container-id-1 div.sk-parallel {display: flex;align-items: stretch;justify-content: center;background-color: white;position: relative;}#sk-container-id-1 div.sk-item::before, #sk-container-id-1 div.sk-parallel-item::before {content: \"\";position: absolute;border-left: 1px solid gray;box-sizing: border-box;top: 0;bottom: 0;left: 50%;z-index: -1;}#sk-container-id-1 div.sk-parallel-item {display: flex;flex-direction: column;z-index: 1;position: relative;background-color: white;}#sk-container-id-1 div.sk-parallel-item:first-child::after {align-self: flex-end;width: 50%;}#sk-container-id-1 div.sk-parallel-item:last-child::after {align-self: flex-start;width: 50%;}#sk-container-id-1 div.sk-parallel-item:only-child::after {width: 0;}#sk-container-id-1 div.sk-dashed-wrapped {border: 1px dashed gray;margin: 0 0.4em 0.5em 0.4em;box-sizing: border-box;padding-bottom: 0.4em;background-color: white;}#sk-container-id-1 div.sk-label label {font-family: monospace;font-weight: bold;display: inline-block;line-height: 1.2em;}#sk-container-id-1 div.sk-label-container {text-align: center;}#sk-container-id-1 div.sk-container {/* jupyter's `normalize.less` sets `[hidden] { display: none; }` but bootstrap.min.css set `[hidden] { display: none !important; }` so we also need the `!important` here to be able to override the default hidden behavior on the sphinx rendered scikit-learn.org. See: https://github.com/scikit-learn/scikit-learn/issues/21755 */display: inline-block !important;position: relative;}#sk-container-id-1 div.sk-text-repr-fallback {display: none;}</style><div id=\"sk-container-id-1\" class=\"sk-top-container\"><div class=\"sk-text-repr-fallback\"><pre>SVC()</pre><b>In a Jupyter environment, please rerun this cell to show the HTML representation or trust the notebook. <br />On GitHub, the HTML representation is unable to render, please try loading this page with nbviewer.org.</b></div><div class=\"sk-container\" hidden><div class=\"sk-item\"><div class=\"sk-estimator sk-toggleable\"><input class=\"sk-toggleable__control sk-hidden--visually\" id=\"sk-estimator-id-1\" type=\"checkbox\" checked><label for=\"sk-estimator-id-1\" class=\"sk-toggleable__label sk-toggleable__label-arrow\">SVC</label><div class=\"sk-toggleable__content\"><pre>SVC()</pre></div></div></div></div></div>"
      ],
      "text/plain": [
       "SVC()"
      ]
     },
     "execution_count": 117,
     "metadata": {},
     "output_type": "execute_result"
    }
   ],
   "source": [
    "superhostModel = svm.SVC()\n",
    "superhostModel.fit(X_train, y_train)"
   ]
  },
  {
   "cell_type": "markdown",
   "metadata": {},
   "source": [
    "Finally, Let's test the accuracy of our model"
   ]
  },
  {
   "cell_type": "code",
   "execution_count": 119,
   "metadata": {},
   "outputs": [
    {
     "name": "stdout",
     "output_type": "stream",
     "text": [
      "Accuracy (out of 1) = 0.7841269841269841\n"
     ]
    }
   ],
   "source": [
    "predicted = superhostModel.predict(X_test)\n",
    "print('Accuracy (out of 1) = {}'.format(accuracy_score(y_test, predicted)))"
   ]
  },
  {
   "cell_type": "markdown",
   "metadata": {},
   "source": [
    "An accuracy score of 0.78/1 is really good. It is safe to say that our model will do a good job predicting our target variable "
   ]
  },
  {
   "cell_type": "code",
   "execution_count": null,
   "metadata": {},
   "outputs": [],
   "source": []
  }
 ],
 "metadata": {
  "kernelspec": {
   "display_name": "Python 3 (ipykernel)",
   "language": "python",
   "name": "python3"
  },
  "language_info": {
   "codemirror_mode": {
    "name": "ipython",
    "version": 3
   },
   "file_extension": ".py",
   "mimetype": "text/x-python",
   "name": "python",
   "nbconvert_exporter": "python",
   "pygments_lexer": "ipython3",
   "version": "3.9.7"
  }
 },
 "nbformat": 4,
 "nbformat_minor": 2
}
